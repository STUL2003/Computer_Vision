{
  "cells": [
    {
      "cell_type": "code",
      "execution_count": 2,
      "metadata": {
        "id": "uayhk0-tStzQ"
      },
      "outputs": [],
      "source": [
        "import torch\n",
        "import random\n",
        "import numpy as np\n",
        "random.seed(0)\n",
        "np.random.seed(0)\n",
        "torch.manual_seed(0)\n",
        "torch.cuda.manual_seed(0)\n",
        "torch.backends.cudnn.deterministic = True"
      ]
    },
    {
      "cell_type": "code",
      "execution_count": 3,
      "metadata": {
        "id": "vNGt-qaCStzW"
      },
      "outputs": [],
      "source": [
        "import gc\n",
        "gc.collect()\n",
        "torch.cuda.empty_cache()"
      ]
    },
    {
      "cell_type": "code",
      "execution_count": 1,
      "metadata": {
        "colab": {
          "base_uri": "https://localhost:8080/"
        },
        "id": "LfxwY5PoStzW",
        "outputId": "337c1bfb-55dd-4be9-fb95-e09f0da99c6d"
      },
      "outputs": [
        {
          "name": "stdout",
          "output_type": "stream",
          "text": [
            "Defaulting to user installation because normal site-packages is not writeable\n",
            "Collecting deeplake\n",
            "  Downloading deeplake-3.9.26.tar.gz (617 kB)\n",
            "     ---------------------------------------- 0.0/617.7 kB ? eta -:--:--\n",
            "     ---------------------------------------- 0.0/617.7 kB ? eta -:--:--\n",
            "     ---------------- ----------------------- 262.1/617.7 kB ? eta -:--:--\n",
            "     ---------------- ----------------------- 262.1/617.7 kB ? eta -:--:--\n",
            "     ------------------------------ ----- 524.3/617.7 kB 578.7 kB/s eta 0:00:01\n",
            "     ------------------------------------ 617.7/617.7 kB 529.0 kB/s eta 0:00:00\n",
            "  Installing build dependencies: started\n",
            "  Installing build dependencies: finished with status 'done'\n",
            "  Getting requirements to build wheel: started\n",
            "  Getting requirements to build wheel: finished with status 'done'\n",
            "  Preparing metadata (pyproject.toml): started\n",
            "  Preparing metadata (pyproject.toml): finished with status 'done'\n",
            "Requirement already satisfied: numpy<2.0 in c:\\users\\dima\\appdata\\local\\packages\\pythonsoftwarefoundation.python.3.12_qbz5n2kfra8p0\\localcache\\local-packages\\python312\\site-packages (from deeplake) (1.26.4)\n",
            "Requirement already satisfied: pillow~=10.4.0 in c:\\users\\dima\\appdata\\local\\packages\\pythonsoftwarefoundation.python.3.12_qbz5n2kfra8p0\\localcache\\local-packages\\python312\\site-packages (from deeplake) (10.4.0)\n",
            "Requirement already satisfied: boto3 in c:\\users\\dima\\appdata\\local\\packages\\pythonsoftwarefoundation.python.3.12_qbz5n2kfra8p0\\localcache\\local-packages\\python312\\site-packages (from deeplake) (1.35.33)\n",
            "Requirement already satisfied: click in c:\\users\\dima\\appdata\\local\\packages\\pythonsoftwarefoundation.python.3.12_qbz5n2kfra8p0\\localcache\\local-packages\\python312\\site-packages (from deeplake) (8.1.7)\n",
            "Collecting pathos (from deeplake)\n",
            "  Downloading pathos-0.3.3-py3-none-any.whl.metadata (11 kB)\n",
            "Collecting humbug>=0.3.1 (from deeplake)\n",
            "  Downloading humbug-0.3.2-py3-none-any.whl.metadata (6.8 kB)\n",
            "Requirement already satisfied: tqdm in c:\\users\\dima\\appdata\\local\\packages\\pythonsoftwarefoundation.python.3.12_qbz5n2kfra8p0\\localcache\\local-packages\\python312\\site-packages (from deeplake) (4.66.5)\n",
            "Collecting lz4 (from deeplake)\n",
            "  Downloading lz4-4.3.3-cp312-cp312-win_amd64.whl.metadata (3.8 kB)\n",
            "Collecting pyjwt (from deeplake)\n",
            "  Downloading PyJWT-2.9.0-py3-none-any.whl.metadata (3.0 kB)\n",
            "Collecting pydantic (from deeplake)\n",
            "  Downloading pydantic-2.9.2-py3-none-any.whl.metadata (149 kB)\n",
            "Requirement already satisfied: requests in c:\\users\\dima\\appdata\\local\\packages\\pythonsoftwarefoundation.python.3.12_qbz5n2kfra8p0\\localcache\\local-packages\\python312\\site-packages (from humbug>=0.3.1->deeplake) (2.32.3)\n",
            "Requirement already satisfied: botocore<1.36.0,>=1.35.33 in c:\\users\\dima\\appdata\\local\\packages\\pythonsoftwarefoundation.python.3.12_qbz5n2kfra8p0\\localcache\\local-packages\\python312\\site-packages (from boto3->deeplake) (1.35.33)\n",
            "Requirement already satisfied: jmespath<2.0.0,>=0.7.1 in c:\\users\\dima\\appdata\\local\\packages\\pythonsoftwarefoundation.python.3.12_qbz5n2kfra8p0\\localcache\\local-packages\\python312\\site-packages (from boto3->deeplake) (1.0.1)\n",
            "Requirement already satisfied: s3transfer<0.11.0,>=0.10.0 in c:\\users\\dima\\appdata\\local\\packages\\pythonsoftwarefoundation.python.3.12_qbz5n2kfra8p0\\localcache\\local-packages\\python312\\site-packages (from boto3->deeplake) (0.10.2)\n",
            "Requirement already satisfied: colorama in c:\\users\\dima\\appdata\\local\\packages\\pythonsoftwarefoundation.python.3.12_qbz5n2kfra8p0\\localcache\\local-packages\\python312\\site-packages (from click->deeplake) (0.4.6)\n",
            "Collecting ppft>=1.7.6.9 (from pathos->deeplake)\n",
            "  Downloading ppft-1.7.6.9-py3-none-any.whl.metadata (12 kB)\n",
            "Collecting dill>=0.3.9 (from pathos->deeplake)\n",
            "  Downloading dill-0.3.9-py3-none-any.whl.metadata (10 kB)\n",
            "Collecting pox>=0.3.5 (from pathos->deeplake)\n",
            "  Downloading pox-0.3.5-py3-none-any.whl.metadata (8.0 kB)\n",
            "Collecting multiprocess>=0.70.17 (from pathos->deeplake)\n",
            "  Downloading multiprocess-0.70.17-py312-none-any.whl.metadata (7.2 kB)\n",
            "Collecting annotated-types>=0.6.0 (from pydantic->deeplake)\n",
            "  Downloading annotated_types-0.7.0-py3-none-any.whl.metadata (15 kB)\n",
            "Collecting pydantic-core==2.23.4 (from pydantic->deeplake)\n",
            "  Downloading pydantic_core-2.23.4-cp312-none-win_amd64.whl.metadata (6.7 kB)\n",
            "Requirement already satisfied: typing-extensions>=4.6.1 in c:\\users\\dima\\appdata\\local\\packages\\pythonsoftwarefoundation.python.3.12_qbz5n2kfra8p0\\localcache\\local-packages\\python312\\site-packages (from pydantic->deeplake) (4.12.2)\n",
            "Requirement already satisfied: python-dateutil<3.0.0,>=2.1 in c:\\users\\dima\\appdata\\local\\packages\\pythonsoftwarefoundation.python.3.12_qbz5n2kfra8p0\\localcache\\local-packages\\python312\\site-packages (from botocore<1.36.0,>=1.35.33->boto3->deeplake) (2.9.0.post0)\n",
            "Requirement already satisfied: urllib3!=2.2.0,<3,>=1.25.4 in c:\\users\\dima\\appdata\\local\\packages\\pythonsoftwarefoundation.python.3.12_qbz5n2kfra8p0\\localcache\\local-packages\\python312\\site-packages (from botocore<1.36.0,>=1.35.33->boto3->deeplake) (2.2.3)\n",
            "Requirement already satisfied: charset-normalizer<4,>=2 in c:\\users\\dima\\appdata\\local\\packages\\pythonsoftwarefoundation.python.3.12_qbz5n2kfra8p0\\localcache\\local-packages\\python312\\site-packages (from requests->humbug>=0.3.1->deeplake) (3.3.2)\n",
            "Requirement already satisfied: idna<4,>=2.5 in c:\\users\\dima\\appdata\\local\\packages\\pythonsoftwarefoundation.python.3.12_qbz5n2kfra8p0\\localcache\\local-packages\\python312\\site-packages (from requests->humbug>=0.3.1->deeplake) (3.7)\n",
            "Requirement already satisfied: certifi>=2017.4.17 in c:\\users\\dima\\appdata\\local\\packages\\pythonsoftwarefoundation.python.3.12_qbz5n2kfra8p0\\localcache\\local-packages\\python312\\site-packages (from requests->humbug>=0.3.1->deeplake) (2024.8.30)\n",
            "Requirement already satisfied: six>=1.5 in c:\\users\\dima\\appdata\\local\\packages\\pythonsoftwarefoundation.python.3.12_qbz5n2kfra8p0\\localcache\\local-packages\\python312\\site-packages (from python-dateutil<3.0.0,>=2.1->botocore<1.36.0,>=1.35.33->boto3->deeplake) (1.16.0)\n",
            "Downloading humbug-0.3.2-py3-none-any.whl (15 kB)\n",
            "Downloading lz4-4.3.3-cp312-cp312-win_amd64.whl (99 kB)\n",
            "Downloading pathos-0.3.3-py3-none-any.whl (82 kB)\n",
            "Downloading pydantic-2.9.2-py3-none-any.whl (434 kB)\n",
            "Downloading pydantic_core-2.23.4-cp312-none-win_amd64.whl (1.9 MB)\n",
            "   ---------------------------------------- 0.0/1.9 MB ? eta -:--:--\n",
            "   ---------------------------------------- 0.0/1.9 MB ? eta -:--:--\n",
            "   ---------------------------------------- 0.0/1.9 MB ? eta -:--:--\n",
            "   ---------------------------------------- 0.0/1.9 MB ? eta -:--:--\n",
            "   ---------------------------------------- 0.0/1.9 MB ? eta -:--:--\n",
            "   ---------------------------------------- 0.0/1.9 MB ? eta -:--:--\n",
            "   ----- ---------------------------------- 0.3/1.9 MB ? eta -:--:--\n",
            "   ----- ---------------------------------- 0.3/1.9 MB ? eta -:--:--\n",
            "   ----- ---------------------------------- 0.3/1.9 MB ? eta -:--:--\n",
            "   ----- ---------------------------------- 0.3/1.9 MB ? eta -:--:--\n",
            "   ----- ---------------------------------- 0.3/1.9 MB ? eta -:--:--\n",
            "   ----- ---------------------------------- 0.3/1.9 MB ? eta -:--:--\n",
            "   ---------- ----------------------------- 0.5/1.9 MB 180.3 kB/s eta 0:00:08\n",
            "   ---------- ----------------------------- 0.5/1.9 MB 180.3 kB/s eta 0:00:08\n",
            "   ---------- ----------------------------- 0.5/1.9 MB 180.3 kB/s eta 0:00:08\n",
            "   ---------- ----------------------------- 0.5/1.9 MB 180.3 kB/s eta 0:00:08\n",
            "   ---------- ----------------------------- 0.5/1.9 MB 180.3 kB/s eta 0:00:08\n",
            "   ---------- ----------------------------- 0.5/1.9 MB 180.3 kB/s eta 0:00:08\n",
            "   ---------- ----------------------------- 0.5/1.9 MB 180.3 kB/s eta 0:00:08\n",
            "   ---------------- ----------------------- 0.8/1.9 MB 190.7 kB/s eta 0:00:06\n",
            "   ---------------- ----------------------- 0.8/1.9 MB 190.7 kB/s eta 0:00:06\n",
            "   ---------------- ----------------------- 0.8/1.9 MB 190.7 kB/s eta 0:00:06\n",
            "   ---------------- ----------------------- 0.8/1.9 MB 190.7 kB/s eta 0:00:06\n",
            "   ---------------- ----------------------- 0.8/1.9 MB 190.7 kB/s eta 0:00:06\n",
            "   --------------------- ------------------ 1.0/1.9 MB 206.2 kB/s eta 0:00:05\n",
            "   --------------------- ------------------ 1.0/1.9 MB 206.2 kB/s eta 0:00:05\n",
            "   --------------------- ------------------ 1.0/1.9 MB 206.2 kB/s eta 0:00:05\n",
            "   --------------------- ------------------ 1.0/1.9 MB 206.2 kB/s eta 0:00:05\n",
            "   --------------------------- ------------ 1.3/1.9 MB 219.3 kB/s eta 0:00:03\n",
            "   --------------------------- ------------ 1.3/1.9 MB 219.3 kB/s eta 0:00:03\n",
            "   --------------------------- ------------ 1.3/1.9 MB 219.3 kB/s eta 0:00:03\n",
            "   --------------------------- ------------ 1.3/1.9 MB 219.3 kB/s eta 0:00:03\n",
            "   -------------------------------- ------- 1.6/1.9 MB 234.9 kB/s eta 0:00:02\n",
            "   -------------------------------- ------- 1.6/1.9 MB 234.9 kB/s eta 0:00:02\n",
            "   -------------------------------- ------- 1.6/1.9 MB 234.9 kB/s eta 0:00:02\n",
            "   -------------------------------- ------- 1.6/1.9 MB 234.9 kB/s eta 0:00:02\n",
            "   -------------------------------- ------- 1.6/1.9 MB 234.9 kB/s eta 0:00:02\n",
            "   -------------------------------------- - 1.8/1.9 MB 238.0 kB/s eta 0:00:01\n",
            "   ---------------------------------------- 1.9/1.9 MB 237.6 kB/s eta 0:00:00\n",
            "Downloading PyJWT-2.9.0-py3-none-any.whl (22 kB)\n",
            "Downloading annotated_types-0.7.0-py3-none-any.whl (13 kB)\n",
            "Downloading dill-0.3.9-py3-none-any.whl (119 kB)\n",
            "Downloading multiprocess-0.70.17-py312-none-any.whl (147 kB)\n",
            "Downloading pox-0.3.5-py3-none-any.whl (29 kB)\n",
            "Downloading ppft-1.7.6.9-py3-none-any.whl (56 kB)\n",
            "Building wheels for collected packages: deeplake\n",
            "  Building wheel for deeplake (pyproject.toml): started\n",
            "  Building wheel for deeplake (pyproject.toml): finished with status 'done'\n",
            "  Created wheel for deeplake: filename=deeplake-3.9.26-py3-none-any.whl size=740517 sha256=b71a5f11ba0f0ca3f272c974b589a093baa4ff30921f46dc018033c860260136\n",
            "  Stored in directory: c:\\users\\dima\\appdata\\local\\packages\\pythonsoftwarefoundation.python.3.12_qbz5n2kfra8p0\\localcache\\local\\pip\\cache\\wheels\\e1\\08\\f4\\ad017283f4cfa17df6d4b60ebf57e31fa00e391fdd747aa88c\n",
            "Successfully built deeplake\n",
            "Installing collected packages: pyjwt, pydantic-core, ppft, pox, lz4, dill, annotated-types, pydantic, multiprocess, humbug, pathos, deeplake\n",
            "Successfully installed annotated-types-0.7.0 deeplake-3.9.26 dill-0.3.9 humbug-0.3.2 lz4-4.3.3 multiprocess-0.70.17 pathos-0.3.3 pox-0.3.5 ppft-1.7.6.9 pydantic-2.9.2 pydantic-core-2.23.4 pyjwt-2.9.0\n"
          ]
        }
      ],
      "source": [
        "!pip install deeplake"
      ]
    },
    {
      "cell_type": "code",
      "execution_count": 4,
      "metadata": {
        "colab": {
          "base_uri": "https://localhost:8080/"
        },
        "id": "FITwtsoXStzW",
        "outputId": "49854c1b-b9cb-453c-90b0-ef1f8bcb2364"
      },
      "outputs": [],
      "source": [
        "#!pip install pyjwt"
      ]
    },
    {
      "cell_type": "code",
      "execution_count": 4,
      "metadata": {
        "id": "vff0MHHsStzX"
      },
      "outputs": [],
      "source": [
        "import deeplake"
      ]
    },
    {
      "cell_type": "markdown",
      "metadata": {
        "id": "jkwloaxEStzX"
      },
      "source": [
        "Скачал через deeplake<br>\n",
        "https://datasets.activeloop.ai/docs/ml/datasets/fer2013-dataset/"
      ]
    },
    {
      "cell_type": "code",
      "execution_count": 5,
      "metadata": {
        "colab": {
          "base_uri": "https://localhost:8080/"
        },
        "id": "d3yfGQaqStza",
        "outputId": "9ebbebd0-f696-4733-bdea-00927fcd92ce"
      },
      "outputs": [
        {
          "name": "stderr",
          "output_type": "stream",
          "text": [
            "|"
          ]
        },
        {
          "name": "stdout",
          "output_type": "stream",
          "text": [
            "Opening dataset in read-only mode as you don't have write permissions.\n"
          ]
        },
        {
          "name": "stderr",
          "output_type": "stream",
          "text": [
            "/"
          ]
        },
        {
          "name": "stdout",
          "output_type": "stream",
          "text": [
            "This dataset can be visualized in Jupyter Notebook by ds.visualize() or at https://app.activeloop.ai/activeloop/fer2013-train\n",
            "\n"
          ]
        },
        {
          "name": "stderr",
          "output_type": "stream",
          "text": [
            "\\"
          ]
        },
        {
          "name": "stdout",
          "output_type": "stream",
          "text": [
            "hub://activeloop/fer2013-train loaded successfully.\n",
            "\n"
          ]
        },
        {
          "name": "stderr",
          "output_type": "stream",
          "text": [
            "|"
          ]
        },
        {
          "name": "stdout",
          "output_type": "stream",
          "text": [
            "Opening dataset in read-only mode as you don't have write permissions.\n"
          ]
        },
        {
          "name": "stderr",
          "output_type": "stream",
          "text": [
            "-"
          ]
        },
        {
          "name": "stdout",
          "output_type": "stream",
          "text": [
            "This dataset can be visualized in Jupyter Notebook by ds.visualize() or at https://app.activeloop.ai/activeloop/fer2013-public-test\n",
            "\n"
          ]
        },
        {
          "name": "stderr",
          "output_type": "stream",
          "text": [
            "|"
          ]
        },
        {
          "name": "stdout",
          "output_type": "stream",
          "text": [
            "hub://activeloop/fer2013-public-test loaded successfully.\n",
            "\n"
          ]
        },
        {
          "name": "stderr",
          "output_type": "stream",
          "text": [
            " "
          ]
        }
      ],
      "source": [
        "FER2013_train = deeplake.load('hub://activeloop/fer2013-train')\n",
        "FER2013_test = deeplake.load('hub://activeloop/fer2013-public-test')"
      ]
    },
    {
      "cell_type": "code",
      "execution_count": 6,
      "metadata": {
        "id": "WkyUZ0jMStzc"
      },
      "outputs": [],
      "source": [
        "#FER2013_train нет атрибута train_data, потому что диплэйк использует какой-то другой подход для доступа к данным\n",
        "#Не понял что диплейк делает с индексацией, и почему всё ломается, поэтому просто преобразовал к numpy\n",
        "X_train = torch.tensor(FER2013_train.images.numpy())\n",
        "y_train = torch.tensor(FER2013_train.labels.numpy())\n",
        "\n",
        "X_test = torch.tensor(FER2013_test.images.numpy())\n",
        "y_test = torch.tensor(FER2013_test.labels.numpy())"
      ]
    },
    {
      "cell_type": "markdown",
      "metadata": {
        "id": "-3iCthQXStzd"
      },
      "source": [
        "Преобразовал числовые в категориальные данные"
      ]
    },
    {
      "cell_type": "code",
      "execution_count": 8,
      "metadata": {
        "colab": {
          "base_uri": "https://localhost:8080/"
        },
        "id": "49qINMINStzg",
        "outputId": "25e49d57-c714-41dd-bfe1-5eb2f0688ff1"
      },
      "outputs": [
        {
          "data": {
            "text/plain": [
              "torch.Tensor"
            ]
          },
          "execution_count": 8,
          "metadata": {},
          "output_type": "execute_result"
        }
      ],
      "source": [
        "# посмотртим тип \"картинок\"\n",
        "type(X_train[10, :, :])"
      ]
    },
    {
      "cell_type": "code",
      "execution_count": 10,
      "metadata": {
        "colab": {
          "base_uri": "https://localhost:8080/"
        },
        "id": "t1k2LLOqStzg",
        "outputId": "3f4bd4d5-2d15-4ba0-fd27-8f81bd5a5c68"
      },
      "outputs": [
        {
          "data": {
            "text/plain": [
              "torch.Size([28709, 48, 48])"
            ]
          },
          "execution_count": 10,
          "metadata": {},
          "output_type": "execute_result"
        }
      ],
      "source": [
        "X_train.shape"
      ]
    },
    {
      "cell_type": "code",
      "execution_count": 11,
      "metadata": {
        "id": "4po3qCi1Stzg"
      },
      "outputs": [],
      "source": [
        "# unsqueeze - Возвращает новый тензор с увеличенной на 1 размерностью, которая вставляется в указанную позицию.\n",
        "# было torch.Size([28709, 48, 48])  ---- станет torch.Size([28709, 1, 48, 48])\n",
        "# и все значения - во float\n",
        "\n",
        "X_train = X_train.unsqueeze(1).float()\n",
        "X_test = X_test.unsqueeze(1).float()"
      ]
    },
    {
      "cell_type": "code",
      "execution_count": 12,
      "metadata": {
        "colab": {
          "base_uri": "https://localhost:8080/"
        },
        "id": "7An33nDoStzh",
        "outputId": "4aeceb15-c7bd-4517-e226-c0e57c4612bb"
      },
      "outputs": [
        {
          "data": {
            "text/plain": [
              "torch.Size([28709, 1, 48, 48])"
            ]
          },
          "execution_count": 12,
          "metadata": {},
          "output_type": "execute_result"
        }
      ],
      "source": [
        "X_train.shape"
      ]
    },
    {
      "cell_type": "code",
      "execution_count": 13,
      "metadata": {},
      "outputs": [],
      "source": [
        "# Напишем свой блок свёртки с residual connection.\n",
        "\n",
        "class ResidualBlock(torch.nn.Module):\n",
        "    # Инициализация блока.\n",
        "    def __init__(\n",
        "        self,\n",
        "        input_c,                   # Число каналов на входе.\n",
        "        output_c,                  # Число каналов на выходе.\n",
        "        kernel_size,               # Размер ядра.\n",
        "        activation=torch.nn.ReLU,  # Класс функции активации.\n",
        "    ):\n",
        "        super().__init__()\n",
        "\n",
        "        # Функция активации для нелинейности.\n",
        "        self.activation = activation()\n",
        "\n",
        "        # TODO:\n",
        "        # Паддинг подбираем такой, чтобы размеры h и w не менялись\n",
        "        #  (считаем, что размер ядра всегда нечётный).\n",
        "        padding_size = kernel_size // 2\n",
        "\n",
        "        # TODO:\n",
        "        # Операция свёртки.\n",
        "        # Создайте сверточный слой с помощью класса torch.nn.Conv2d\n",
        "        # укажите количество каналов на входе и выходе, размер ядра,\n",
        "        # размер паддинга и режим его выполнения (заполнение нулями)\n",
        "        self.conv = torch.nn.Conv2d(\n",
        "            in_channels=input_c,\n",
        "            out_channels=output_c,\n",
        "            kernel_size = kernel_size,\n",
        "            padding = padding_size,\n",
        "            padding_mode = 'zeros'\n",
        "            \n",
        "        )\n",
        "\n",
        "        # Если числа каналов у входа и выхода различаются,\n",
        "        if input_c != output_c:\n",
        "            # ТОDO:\n",
        "            # то будем делать свёртку с ядром размера 1.\n",
        "            self.correct_channels = torch.nn.Conv2d(\n",
        "                            in_channels=input_c,\n",
        "                            out_channels=output_c,\n",
        "                            kernel_size = 1,\n",
        "                \n",
        "            )\n",
        "        else:\n",
        "            self.correct_channels = torch.nn.Identity()  # Слой, никак не меняющий вход.\n",
        "\n",
        "    # Прямой проход.\n",
        "    def forward(self, x):\n",
        "        # ТОDO:\n",
        "        \n",
        "        # реализуйте прямой проход\n",
        "        return self.activation(self.conv(x)+self.correct_channels(x))"
      ]
    },
    {
      "cell_type": "code",
      "execution_count": 19,
      "metadata": {
        "id": "C73RiIexStzi"
      },
      "outputs": [],
      "source": [
        "class LeNet5(torch.nn.Module):\n",
        "    def __init__(self):\n",
        "        super(LeNet5, self).__init__()\n",
        "\n",
        "        self.conv1 = torch.nn.Conv2d(\n",
        "            in_channels=1, out_channels=6, kernel_size=5, padding=2)\n",
        "        self.act1  = torch.nn.ReLU()\n",
        "        self.pool1 = torch.nn.AvgPool2d(kernel_size=2, stride=2)\n",
        "        self.residual1 = ResidualBlock(input_c=6, output_c=6, kernel_size=3) \n",
        "\n",
        "        self.conv2 = torch.nn.Conv2d(\n",
        "            in_channels=6, out_channels=16, kernel_size=5, padding=0)\n",
        "        self.act2  = torch.nn.ReLU()\n",
        "        self.pool2 = torch.nn.AvgPool2d(kernel_size=2, stride=2)\n",
        "        self.residual2 = ResidualBlock(input_c=16, output_c=16, kernel_size=3)\n",
        "\n",
        "        self.conv3 = torch.nn.Conv2d( # Добавил слой\n",
        "            in_channels=16, out_channels=32, kernel_size=3, padding=1)\n",
        "        self.act3  = torch.nn.ReLU()\n",
        "        self.pool3 = torch.nn.AvgPool2d(kernel_size=2, stride=2)\n",
        "        self.residual3 = ResidualBlock(input_c=32, output_c=32, kernel_size=3)\n",
        "\n",
        "        self.fc1   = torch.nn.Linear(32 * 5 * 5, 120)\n",
        "        self.act4  = torch.nn.ReLU()\n",
        "\n",
        "        self.fc2   = torch.nn.Linear(120, 84)\n",
        "        self.act5  = torch.nn.ReLU()\n",
        "\n",
        "        self.fc3   = torch.nn.Linear(84, 7)\n",
        "\n",
        "    def forward(self, x):\n",
        "        x = self.conv1(x)\n",
        "        x = self.act1(x)\n",
        "        x = self.pool1(x)\n",
        "        \n",
        "        x = self.residual1(x) # Сюда воткнуто residual connection\n",
        "\n",
        "        x = self.conv2(x)\n",
        "        x = self.act2(x)\n",
        "        x = self.pool2(x)\n",
        "        \n",
        "        x = self.residual2(x) # Сюда воткнуто residual connection\n",
        "\n",
        "        x = self.conv3(x)\n",
        "        x = self.act3(x)\n",
        "        x = self.pool3(x)\n",
        "        \n",
        "        x = self.residual3(x) # Сюда воткнуто residual connection\n",
        "\n",
        "        x = x.view(x.size(0), x.size(1) * x.size(2) * x.size(3))\n",
        "\n",
        "        x = self.fc1(x)\n",
        "        x = self.act4(x)\n",
        "        x = self.fc2(x)\n",
        "        x = self.act5(x)\n",
        "        x = self.fc3(x)\n",
        "\n",
        "        return x\n",
        "\n",
        "# переменная - наша нейронка\n",
        "lenet5 = LeNet5()"
      ]
    },
    {
      "cell_type": "code",
      "execution_count": 20,
      "metadata": {
        "id": "GlM5Wih5Stzi"
      },
      "outputs": [],
      "source": [
        "# определяем, где будет обучаться наша СNN\n",
        "# если есть граф процессор от Nvidia, то на нем. Если нет, то на cpu\n",
        "\n",
        "device = torch.device('cuda:0' if torch.cuda.is_available() else 'cpu')\n",
        "#device = \"cpu\"\n",
        "\n",
        "# отправляем туда нашу нейронку\n",
        "lenet5 = lenet5.to(device)"
      ]
    },
    {
      "cell_type": "code",
      "execution_count": 21,
      "metadata": {
        "id": "fUOvPAgNStzi"
      },
      "outputs": [],
      "source": [
        "# в качестве функции потерь будем использовать CrossEntropyLoss()\n",
        "loss = torch.nn.CrossEntropyLoss()\n",
        "\n",
        "# в качестве оптимайзера, который будет вычислять градиенты и минимизировать функцию потерь, будем использовать Adam (Адаптивная оценка момента)\n",
        "optimizer = torch.optim.Adam(lenet5.parameters(), lr=1.0e-3)"
      ]
    },
    {
      "cell_type": "code",
      "execution_count": 22,
      "metadata": {
        "colab": {
          "base_uri": "https://localhost:8080/"
        },
        "id": "eDKHqP3BStzj",
        "outputId": "c4476ef9-ee65-4574-a034-868b4aaa2e54"
      },
      "outputs": [
        {
          "name": "stdout",
          "output_type": "stream",
          "text": [
            "epoch0 - accuracy test 0.40150460600852966 \n",
            "epoch1 - accuracy test 0.4366118609905243 \n",
            "epoch2 - accuracy test 0.45945945382118225 \n",
            "epoch3 - accuracy test 0.48620784282684326 \n",
            "epoch4 - accuracy test 0.5059905052185059 \n",
            "epoch5 - accuracy test 0.5204792618751526 \n",
            "epoch6 - accuracy test 0.507662296295166 \n",
            "epoch7 - accuracy test 0.5154638886451721 \n",
            "epoch8 - accuracy test 0.5123990178108215 \n",
            "epoch9 - accuracy test 0.5115631222724915 \n",
            "epoch10 - accuracy test 0.5034828782081604 \n",
            "epoch11 - accuracy test 0.5174143314361572 \n",
            "epoch12 - accuracy test 0.5104485750198364 \n",
            "epoch13 - accuracy test 0.507940948009491 \n",
            "epoch14 - accuracy test 0.48704373836517334 \n",
            "epoch15 - accuracy test 0.5112844705581665 \n",
            "epoch16 - accuracy test 0.5040401220321655 \n",
            "epoch17 - accuracy test 0.5054332613945007 \n",
            "epoch18 - accuracy test 0.5068264007568359 \n",
            "epoch19 - accuracy test 0.5040401220321655 \n",
            "epoch20 - accuracy test 0.507940948009491 \n",
            "epoch21 - accuracy test 0.4864864945411682 \n",
            "epoch22 - accuracy test 0.5188074707984924 \n",
            "epoch23 - accuracy test 0.5082195401191711 \n",
            "epoch24 - accuracy test 0.5045973658561707 \n",
            "epoch25 - accuracy test 0.5012538433074951 \n",
            "epoch26 - accuracy test 0.5062691569328308 \n",
            "epoch27 - accuracy test 0.5001392960548401 \n",
            "epoch28 - accuracy test 0.5029256343841553 \n",
            "epoch29 - accuracy test 0.5018110871315002 \n",
            "epoch30 - accuracy test 0.5045973658561707 \n",
            "epoch31 - accuracy test 0.4973530173301697 \n",
            "epoch32 - accuracy test 0.5073836445808411 \n",
            "epoch33 - accuracy test 0.4873223602771759 \n",
            "epoch34 - accuracy test 0.48704373836517334 \n",
            "epoch35 - accuracy test 0.5082195401191711 \n",
            "epoch36 - accuracy test 0.5020897388458252 \n",
            "epoch37 - accuracy test 0.4987461566925049 \n",
            "epoch38 - accuracy test 0.5037614703178406 \n",
            "epoch39 - accuracy test 0.5059905052185059 \n",
            "epoch40 - accuracy test 0.49456673860549927 \n",
            "epoch41 - accuracy test 0.5023683309555054 \n",
            "epoch42 - accuracy test 0.49958205223083496 \n",
            "epoch43 - accuracy test 0.508776843547821 \n",
            "epoch44 - accuracy test 0.4984675347805023 \n",
            "epoch45 - accuracy test 0.4993034303188324 \n",
            "epoch46 - accuracy test 0.4998606741428375 \n",
            "epoch47 - accuracy test 0.4987461566925049 \n",
            "epoch48 - accuracy test 0.5009751915931702 \n",
            "epoch49 - accuracy test 0.5009751915931702 \n",
            "epoch50 - accuracy test 0.4951239824295044 \n",
            "epoch51 - accuracy test 0.4987461566925049 \n",
            "epoch52 - accuracy test 0.5009751915931702 \n",
            "epoch53 - accuracy test 0.4934522211551666 \n",
            "epoch54 - accuracy test 0.49456673860549927 \n",
            "epoch55 - accuracy test 0.5023683309555054 \n",
            "epoch56 - accuracy test 0.5043187737464905 \n",
            "epoch57 - accuracy test 0.5020897388458252 \n",
            "epoch58 - accuracy test 0.5104485750198364 \n",
            "epoch59 - accuracy test 0.5020897388458252 \n",
            "epoch60 - accuracy test 0.5065478086471558 \n",
            "epoch61 - accuracy test 0.4973530173301697 \n",
            "epoch62 - accuracy test 0.4965171217918396 \n",
            "epoch63 - accuracy test 0.4959598779678345 \n",
            "epoch64 - accuracy test 0.5054332613945007 \n",
            "epoch65 - accuracy test 0.4901086688041687 \n",
            "epoch66 - accuracy test 0.500417947769165 \n",
            "epoch67 - accuracy test 0.49763163924217224 \n",
            "epoch68 - accuracy test 0.49818891286849976 \n",
            "epoch69 - accuracy test 0.5059905052185059 \n",
            "epoch70 - accuracy test 0.4959598779678345 \n",
            "epoch71 - accuracy test 0.48899415135383606 \n",
            "epoch72 - accuracy test 0.4934522211551666 \n",
            "epoch73 - accuracy test 0.49540260434150696 \n",
            "epoch74 - accuracy test 0.5001392960548401 \n",
            "epoch75 - accuracy test 0.4956812560558319 \n",
            "epoch76 - accuracy test 0.4937308430671692 \n",
            "epoch77 - accuracy test 0.49818891286849976 \n",
            "epoch78 - accuracy test 0.50069659948349 \n",
            "epoch79 - accuracy test 0.4998606741428375 \n",
            "epoch80 - accuracy test 0.5034828782081604 \n",
            "epoch81 - accuracy test 0.5068264007568359 \n",
            "epoch82 - accuracy test 0.49623849987983704 \n",
            "epoch83 - accuracy test 0.49317359924316406 \n",
            "epoch84 - accuracy test 0.5043187737464905 \n",
            "epoch85 - accuracy test 0.4987461566925049 \n",
            "epoch86 - accuracy test 0.49484536051750183 \n",
            "epoch87 - accuracy test 0.4928949475288391 \n",
            "epoch88 - accuracy test 0.5040401220321655 \n",
            "epoch89 - accuracy test 0.5012538433074951 \n",
            "epoch90 - accuracy test 0.4942881166934967 \n",
            "epoch91 - accuracy test 0.49818891286849976 \n",
            "epoch92 - accuracy test 0.49623849987983704 \n",
            "epoch93 - accuracy test 0.49763163924217224 \n",
            "epoch94 - accuracy test 0.5082195401191711 \n",
            "epoch95 - accuracy test 0.508776843547821 \n",
            "epoch96 - accuracy test 0.49958205223083496 \n",
            "epoch97 - accuracy test 0.4934522211551666 \n",
            "epoch98 - accuracy test 0.5023683309555054 \n",
            "epoch99 - accuracy test 0.5023683309555054 \n"
          ]
        }
      ],
      "source": [
        "# будем оптимизировать по 100 параметров одним комплектом (бачем)\n",
        "batch_size = 100\n",
        "\n",
        "# чтобы посмотреть, как и что у нас тут менялось при оптимизации на тестовой выборке\n",
        "test_accuracy_history = []\n",
        "test_loss_history = []\n",
        "\n",
        "train_loss_history = []\n",
        "\n",
        "# не забываем отправить все выборки на устройство, на котором обучаем\n",
        "X_test = X_test.to(device)\n",
        "y_test = y_test.to(device)\n",
        "\n",
        "# Преобразование в 1д тензер\n",
        "y_train = y_train.view(-1).long()\n",
        "y_test = y_test.view(-1).long()\n",
        "\n",
        "for epoch in range(100):\n",
        "    order = np.random.permutation(len(X_train))\n",
        "    for start_index in range(0, len(X_train), batch_size):\n",
        "        # обязательно обнуляем градиенты\n",
        "        optimizer.zero_grad()\n",
        "\n",
        "        # берем пачку параметров\n",
        "        batch_indexes = order[start_index:start_index+batch_size]\n",
        "\n",
        "        X_batch = X_train[batch_indexes].to(device)\n",
        "        y_batch = y_train[batch_indexes].to(device)\n",
        "\n",
        "        # делаем предсказание\n",
        "        preds = lenet5.forward(X_batch)\n",
        "\n",
        "        # считаем лосс значение\n",
        "        loss_value = loss(preds, y_batch)\n",
        "\n",
        "        # берем градиенты\n",
        "        loss_value.backward()\n",
        "\n",
        "        # и пусть оптимайзер все оптимизирует\n",
        "        optimizer.step()\n",
        "\n",
        "    # смотрим, что он тут нам напредсказывал, не забывая вовремя отправлять на cpu\n",
        "    train_loss_history.append(loss_value.data.cpu())\n",
        "\n",
        "    test_preds = lenet5.forward(X_test)\n",
        "    test_loss_history.append(loss(test_preds, y_test).data.cpu())\n",
        "\n",
        "    accuracy = (test_preds.argmax(dim=1) == y_test).float().mean().data.cpu()\n",
        "    test_accuracy_history.append(accuracy)\n",
        "\n",
        "    print(f\"epoch{epoch} - accuracy test {accuracy} \")"
      ]
    },
    {
      "cell_type": "code",
      "execution_count": 23,
      "metadata": {
        "colab": {
          "base_uri": "https://localhost:8080/",
          "height": 542
        },
        "id": "qc4-epyCStzj",
        "outputId": "a005da3e-82db-4279-ef55-b2829624754f"
      },
      "outputs": [
        {
          "name": "stderr",
          "output_type": "stream",
          "text": [
            "C:\\Users\\dima\\AppData\\Local\\Temp\\ipykernel_15224\\278083322.py:3: DeprecationWarning: Please import `gaussian_filter1d` from the `scipy.ndimage` namespace; the `scipy.ndimage.filters` namespace is deprecated and will be removed in SciPy 2.0.0.\n",
            "  from scipy.ndimage.filters import gaussian_filter1d\n"
          ]
        },
        {
          "data": {
            "image/png": "[encoded data removed]",
            "text/plain": [
              "<Figure size 1000x500 with 1 Axes>"
            ]
          },
          "metadata": {},
          "output_type": "display_data"
        }
      ],
      "source": [
        "# строим графики - функции потерь\n",
        "import matplotlib.pyplot as plt\n",
        "from scipy.ndimage.filters import gaussian_filter1d\n",
        "fig = plt.figure(figsize=(10,5))\n",
        "\n",
        "ax = fig.add_subplot(111)\n",
        "ax.set(title = 'loss values',\n",
        "       xlabel = 'эпоха',\n",
        "       ylabel = 'loss value')\n",
        "train_loss_smoothed = gaussian_filter1d(train_loss_history, sigma=2)\n",
        "ax.plot(train_loss_smoothed, color='green',  label='train')\n",
        "\n",
        "test_loss_smoothed = gaussian_filter1d(test_loss_history, sigma=2)\n",
        "ax.plot(test_loss_smoothed, color='red',  label='test')\n",
        "ax.legend()\n",
        "plt.show()"
      ]
    },
    {
      "cell_type": "code",
      "execution_count": 24,
      "metadata": {
        "colab": {
          "base_uri": "https://localhost:8080/",
          "height": 542
        },
        "id": "dDCL00-cStzk",
        "outputId": "3643b981-6043-4c6f-c871-1b986bd5c2bc"
      },
      "outputs": [
        {
          "name": "stderr",
          "output_type": "stream",
          "text": [
            "C:\\Users\\dima\\AppData\\Local\\Temp\\ipykernel_15224\\2679742005.py:3: DeprecationWarning: Please import `gaussian_filter1d` from the `scipy.ndimage` namespace; the `scipy.ndimage.filters` namespace is deprecated and will be removed in SciPy 2.0.0.\n",
            "  from scipy.ndimage.filters import gaussian_filter1d\n"
          ]
        },
        {
          "data": {
            "image/png": "[encoded data removed]",
            "text/plain": [
              "<Figure size 1000x500 with 1 Axes>"
            ]
          },
          "metadata": {},
          "output_type": "display_data"
        }
      ],
      "source": [
        "# График изменения accuracy на тестовых данных\n",
        "\n",
        "from scipy.ndimage.filters import gaussian_filter1d\n",
        "fig = plt.figure(figsize=(10,5))\n",
        "\n",
        "ax = fig.add_subplot(111)\n",
        "ax.set(title = 'loss values',\n",
        "       xlabel = 'эпоха',\n",
        "       ylabel = 'accuracy')\n",
        "test_accuracy_smoothed = gaussian_filter1d(test_accuracy_history, sigma=2)\n",
        "ax.plot(test_accuracy_smoothed, color='green',  label='test')\n",
        "\n",
        "ax.legend()\n",
        "plt.show()\n"
      ]
    },
    {
      "cell_type": "markdown",
      "metadata": {
        "id": "Vhq_4u-QStzk"
      },
      "source": [
        "# Сохранение и использование модели"
      ]
    },
    {
      "cell_type": "code",
      "execution_count": 49,
      "metadata": {
        "id": "7cHQ4UqmStzk"
      },
      "outputs": [],
      "source": [
        "timg = X_train[1766]\n",
        "\n",
        "torch.save(timg,'tensor.pt')"
      ]
    },
    {
      "cell_type": "code",
      "execution_count": 50,
      "metadata": {
        "colab": {
          "base_uri": "https://localhost:8080/"
        },
        "id": "J6cTQ7kd4B7o",
        "outputId": "74f17992-12f4-4e8f-eef0-7692e9abba95"
      },
      "outputs": [
        {
          "data": {
            "text/plain": [
              "tensor(0)"
            ]
          },
          "execution_count": 50,
          "metadata": {},
          "output_type": "execute_result"
        }
      ],
      "source": [
        "y_train[1766]"
      ]
    },
    {
      "cell_type": "code",
      "execution_count": 51,
      "metadata": {
        "colab": {
          "base_uri": "https://localhost:8080/"
        },
        "id": "7LpRxt7kStzl",
        "outputId": "89cc8ab2-2d9a-4e3f-fa08-a37ebea949de"
      },
      "outputs": [
        {
          "data": {
            "text/plain": [
              "torch.Size([1, 48, 48])"
            ]
          },
          "execution_count": 51,
          "metadata": {},
          "output_type": "execute_result"
        }
      ],
      "source": [
        "# смотрим размер тензора - изображения\n",
        "timg.size()"
      ]
    },
    {
      "cell_type": "code",
      "execution_count": 52,
      "metadata": {
        "colab": {
          "base_uri": "https://localhost:8080/"
        },
        "id": "LfXZH1xHStzl",
        "outputId": "f79c612d-fe69-4899-bbf8-cbd0afdef7ef"
      },
      "outputs": [
        {
          "data": {
            "text/plain": [
              "torch.Size([3589, 1, 48, 48])"
            ]
          },
          "execution_count": 52,
          "metadata": {},
          "output_type": "execute_result"
        }
      ],
      "source": [
        "# и размер того, что изначально скармливали нейронке.\n",
        "# тензор подобного размера надо будет скормить нейронке для предсказания\n",
        "\n",
        "X_test.size()\n"
      ]
    },
    {
      "cell_type": "code",
      "execution_count": 53,
      "metadata": {
        "id": "S2e8BT7PStzl"
      },
      "outputs": [],
      "source": [
        "import dill\n",
        "\n",
        "with open(\"model.dill\", \"wb\") as dill_file:\n",
        "    dill.dump(lenet5, dill_file)\n"
      ]
    },
    {
      "cell_type": "code",
      "execution_count": 54,
      "metadata": {
        "colab": {
          "base_uri": "https://localhost:8080/"
        },
        "id": "AGhWKa2JStzm",
        "outputId": "ea86be47-9a38-4036-c614-23ca8f622fbc"
      },
      "outputs": [
        {
          "name": "stdout",
          "output_type": "stream",
          "text": [
            "LeNet5(\n",
            "  (conv1): Conv2d(1, 6, kernel_size=(5, 5), stride=(1, 1), padding=(2, 2))\n",
            "  (act1): ReLU()\n",
            "  (pool1): AvgPool2d(kernel_size=2, stride=2, padding=0)\n",
            "  (residual1): ResidualBlock(\n",
            "    (activation): ReLU()\n",
            "    (conv): Conv2d(6, 6, kernel_size=(3, 3), stride=(1, 1), padding=(1, 1))\n",
            "    (correct_channels): Identity()\n",
            "  )\n",
            "  (conv2): Conv2d(6, 16, kernel_size=(5, 5), stride=(1, 1))\n",
            "  (act2): ReLU()\n",
            "  (pool2): AvgPool2d(kernel_size=2, stride=2, padding=0)\n",
            "  (residual2): ResidualBlock(\n",
            "    (activation): ReLU()\n",
            "    (conv): Conv2d(16, 16, kernel_size=(3, 3), stride=(1, 1), padding=(1, 1))\n",
            "    (correct_channels): Identity()\n",
            "  )\n",
            "  (conv3): Conv2d(16, 32, kernel_size=(3, 3), stride=(1, 1), padding=(1, 1))\n",
            "  (act3): ReLU()\n",
            "  (pool3): AvgPool2d(kernel_size=2, stride=2, padding=0)\n",
            "  (residual3): ResidualBlock(\n",
            "    (activation): ReLU()\n",
            "    (conv): Conv2d(32, 32, kernel_size=(3, 3), stride=(1, 1), padding=(1, 1))\n",
            "    (correct_channels): Identity()\n",
            "  )\n",
            "  (fc1): Linear(in_features=800, out_features=120, bias=True)\n",
            "  (act4): ReLU()\n",
            "  (fc2): Linear(in_features=120, out_features=84, bias=True)\n",
            "  (act5): ReLU()\n",
            "  (fc3): Linear(in_features=84, out_features=7, bias=True)\n",
            ")\n"
          ]
        },
        {
          "name": "stderr",
          "output_type": "stream",
          "text": [
            "C:\\Users\\dima\\AppData\\Local\\Temp\\ipykernel_15224\\205738607.py:15: FutureWarning: You are using `torch.load` with `weights_only=False` (the current default value), which uses the default pickle module implicitly. It is possible to construct malicious pickle data which will execute arbitrary code during unpickling (See https://github.com/pytorch/pytorch/blob/main/SECURITY.md#untrusted-models for more details). In a future release, the default value for `weights_only` will be flipped to `True`. This limits the functions that could be executed during unpickling. Arbitrary objects will no longer be allowed to be loaded via this mode unless they are explicitly allowlisted by the user via `torch.serialization.add_safe_globals`. We recommend you start setting `weights_only=True` for any use case where you don't have full control of the loaded file. Please open an issue on GitHub for any issues related to this experimental feature.\n",
            "  test_data = torch.load('tensor.pt')\n"
          ]
        }
      ],
      "source": [
        "# считываем модель, сохраненную в dill\n",
        "import torch\n",
        "import torch.nn as nn\n",
        "#from LeNET_5 import LeNet\n",
        "import pandas as pd\n",
        "import numpy as np\n",
        "\n",
        "\n",
        "\n",
        "ifile = open(\"model.dill\", \"rb\")\n",
        "modelp = dill.load(ifile)\n",
        "ifile.close()\n",
        "\n",
        "# загружаем наше изображение\n",
        "test_data = torch.load('tensor.pt')\n",
        "\n",
        "# смотрим, что пришло из dill файла\n",
        "print(modelp)\n"
      ]
    },
    {
      "cell_type": "code",
      "execution_count": 55,
      "metadata": {
        "colab": {
          "base_uri": "https://localhost:8080/",
          "height": 187
        },
        "id": "t71rnW8kStzm",
        "outputId": "c5431c6d-0241-43ae-c52e-6df5fe80d100"
      },
      "outputs": [
        {
          "data": {
            "text/plain": [
              "__main__.LeNet5"
            ]
          },
          "execution_count": 55,
          "metadata": {},
          "output_type": "execute_result"
        }
      ],
      "source": [
        "# смотрим тип модели\n",
        "type(modelp)"
      ]
    },
    {
      "cell_type": "code",
      "execution_count": 56,
      "metadata": {
        "colab": {
          "base_uri": "https://localhost:8080/",
          "height": 431
        },
        "id": "E56pz0jZStzm",
        "outputId": "03be2df0-2bad-439f-ffff-057faeaa65c2"
      },
      "outputs": [
        {
          "data": {
            "image/png": "[encoded data removed]",
            "text/plain": [
              "<Figure size 640x480 with 1 Axes>"
            ]
          },
          "metadata": {},
          "output_type": "display_data"
        }
      ],
      "source": [
        "plt.imshow(test_data[0, :, :])\n",
        "plt.show()"
      ]
    },
    {
      "cell_type": "code",
      "execution_count": 57,
      "metadata": {
        "colab": {
          "base_uri": "https://localhost:8080/"
        },
        "id": "-JV2ErjnStzn",
        "outputId": "9f924476-056e-4dc1-d77f-89a53d3adce5"
      },
      "outputs": [],
      "source": [
        "# переводим входной тензор-изображение в тензор нужного нам размера\n",
        "t_data = torch.tensor([test_data.numpy()])"
      ]
    },
    {
      "cell_type": "code",
      "execution_count": 58,
      "metadata": {
        "colab": {
          "base_uri": "https://localhost:8080/"
        },
        "id": "yulWwyxfStzn",
        "outputId": "5eed1230-ccd6-4b79-cfe7-7f25aaf200a5"
      },
      "outputs": [
        {
          "data": {
            "text/plain": [
              "torch.Size([1, 1, 48, 48])"
            ]
          },
          "execution_count": 58,
          "metadata": {},
          "output_type": "execute_result"
        }
      ],
      "source": [
        "# проверяем\n",
        "t_data.shape"
      ]
    },
    {
      "cell_type": "code",
      "execution_count": 59,
      "metadata": {
        "id": "J2Upn2uJStzo"
      },
      "outputs": [],
      "source": [
        "# проверяем, на чем можем считать\n",
        "dev = torch.device(\"cuda\") if torch.cuda.is_available() else torch.device(\"cpu\")\n",
        "\n",
        "# отправляем туда модель\n",
        "modelp.to(dev)\n",
        "model_data = modelp.to(dev)\n",
        "\n",
        "# тензор-изображение тоже\n",
        "t_data = t_data.to(dev)"
      ]
    },
    {
      "cell_type": "code",
      "execution_count": 60,
      "metadata": {
        "id": "6YSsfjmaStzo"
      },
      "outputs": [],
      "source": [
        "# делаем предсказание\n",
        "preds = modelp.forward(t_data)"
      ]
    },
    {
      "cell_type": "code",
      "execution_count": 61,
      "metadata": {
        "colab": {
          "base_uri": "https://localhost:8080/"
        },
        "id": "dDfpzyF0Stzo",
        "outputId": "966d068e-d2ea-476a-8867-da7b357f02dd"
      },
      "outputs": [
        {
          "name": "stdout",
          "output_type": "stream",
          "text": [
            "tensor([[  9.7973, -18.3658,  -0.1851,   1.6430,   2.5861,  -1.3184,   1.7005]],\n",
            "       grad_fn=<AddmmBackward0>)\n"
          ]
        }
      ],
      "source": [
        "# в каком виде получаем предсказание. Это вектор 10x1 с вероятностями принадлежности объекта к определенному классу\n",
        "print(preds)"
      ]
    },
    {
      "cell_type": "code",
      "execution_count": 62,
      "metadata": {
        "id": "MXDDrhP0Stzp"
      },
      "outputs": [],
      "source": [
        "# выбираем максимальную вероятность, как результат предсказания.\n",
        "# Не забывая отправить на cpu\n",
        "prediction = np.argmax(preds.to('cpu').detach().numpy(),axis=1)"
      ]
    },
    {
      "cell_type": "code",
      "execution_count": 63,
      "metadata": {
        "colab": {
          "base_uri": "https://localhost:8080/"
        },
        "id": "oEX7tbxxStzp",
        "outputId": "5a3c16e5-73d7-45f3-a071-fef50982e240"
      },
      "outputs": [
        {
          "name": "stdout",
          "output_type": "stream",
          "text": [
            "[0]\n"
          ]
        }
      ],
      "source": [
        "# смотрим, что предсказалось\n",
        "print(prediction)"
      ]
    },
    {
      "cell_type": "markdown",
      "metadata": {
        "id": "mOuMYWlxStzr"
      },
      "source": [
        " 0 = Гнев, 1 = Отвращение, 2 = Страх, 3 = Счастье, 4 = Грусть, 5 = Удивление, 6 = Нейтральность <br>\n",
        "Это Гнев"
      ]
    }
  ],
  "metadata": {
    "colab": {
      "provenance": []
    },
    "kernelspec": {
      "display_name": "Python 3",
      "language": "python",
      "name": "python3"
    },
    "language_info": {
      "codemirror_mode": {
        "name": "ipython",
        "version": 3
      },
      "file_extension": ".py",
      "mimetype": "text/x-python",
      "name": "python",
      "nbconvert_exporter": "python",
      "pygments_lexer": "ipython3",
      "version": "3.12.7"
    }
  },
  "nbformat": 4,
  "nbformat_minor": 0
}
